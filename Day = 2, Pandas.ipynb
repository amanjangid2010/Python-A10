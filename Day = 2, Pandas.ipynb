{
 "cells": [
  {
   "cell_type": "markdown",
   "id": "0f40c49e-323a-4bb1-9496-f7eb7ed521ce",
   "metadata": {},
   "source": [
    "# Unique"
   ]
  },
  {
   "cell_type": "code",
   "execution_count": 8,
   "id": "da5a197b-1260-4aaa-a975-e9d5bb2c7416",
   "metadata": {},
   "outputs": [],
   "source": [
    "# Unique() ---> It will return 3 arrays.\n",
    "# arr ---> Unique elements of array\n",
    "# return_index=True ---> Return indexing of unique elements\n",
    "# return_counts=True ---> Return frequency of unique elements."
   ]
  },
  {
   "cell_type": "code",
   "execution_count": 3,
   "id": "5beb226f-8801-4a7b-9582-f5407911a39b",
   "metadata": {},
   "outputs": [],
   "source": [
    "import numpy as np"
   ]
  },
  {
   "cell_type": "code",
   "execution_count": 5,
   "id": "6408317c-bc95-4f29-bb38-44d410c1ed03",
   "metadata": {},
   "outputs": [
    {
     "data": {
      "text/plain": [
       "array([1, 2, 3, 1, 1, 1, 2, 4, 5])"
      ]
     },
     "execution_count": 5,
     "metadata": {},
     "output_type": "execute_result"
    }
   ],
   "source": [
    "a = np.array([1,2,3,1,1,1,2,4,5])\n",
    "a"
   ]
  },
  {
   "cell_type": "code",
   "execution_count": 7,
   "id": "9247666e-8954-4653-b105-48b0435af3f9",
   "metadata": {},
   "outputs": [
    {
     "data": {
      "text/plain": [
       "(array([1, 2, 3, 4, 5]),\n",
       " array([0, 1, 2, 7, 8], dtype=int64),\n",
       " array([4, 2, 1, 1, 1], dtype=int64))"
      ]
     },
     "execution_count": 7,
     "metadata": {},
     "output_type": "execute_result"
    }
   ],
   "source": [
    "np.unique(a, return_index=True, return_counts=True)"
   ]
  },
  {
   "cell_type": "code",
   "execution_count": 9,
   "id": "0b321266-65b5-44e5-b84a-bd797560dfb5",
   "metadata": {},
   "outputs": [],
   "source": [
    "# linspace() ---> It will create an array in which gap of values will be equal.\n",
    "# syntax: np.linspace(min, max, total_numbers)"
   ]
  },
  {
   "cell_type": "code",
   "execution_count": 13,
   "id": "5006ce9e-cb7a-44e8-92af-2ec62baa5dca",
   "metadata": {},
   "outputs": [
    {
     "data": {
      "text/plain": [
       "array([1.  , 1.25, 1.5 , 1.75, 2.  ])"
      ]
     },
     "execution_count": 13,
     "metadata": {},
     "output_type": "execute_result"
    }
   ],
   "source": [
    "a = np.linspace(1,2,5)\n",
    "a"
   ]
  },
  {
   "cell_type": "code",
   "execution_count": null,
   "id": "b7710c22-c810-47a2-83a3-67cff0e9ef1d",
   "metadata": {},
   "outputs": [],
   "source": []
  },
  {
   "cell_type": "markdown",
   "id": "166ce765-5b59-45b2-8f7b-6692a0128443",
   "metadata": {},
   "source": [
    "# Hstack and Vstack"
   ]
  },
  {
   "cell_type": "code",
   "execution_count": 29,
   "id": "a6955ee8-ad5d-44f9-b38c-63d5fa9ca0c9",
   "metadata": {},
   "outputs": [],
   "source": [
    "# Hstack ---> It will combined all the in horizontally.\n",
    "# Vstack --> It will combined all the array in vertically."
   ]
  },
  {
   "cell_type": "code",
   "execution_count": 31,
   "id": "54a40e4d-3961-43b4-ad24-75c6548ccd5b",
   "metadata": {},
   "outputs": [],
   "source": [
    "a = np.array([1,2,3,4])\n",
    "b = np.array([5,6,7,1])\n",
    "c = np.array([9,10,11,1])"
   ]
  },
  {
   "cell_type": "code",
   "execution_count": 33,
   "id": "c25443cc-fbdd-42f2-8794-d42690a40c30",
   "metadata": {},
   "outputs": [
    {
     "data": {
      "text/plain": [
       "array([ 1,  2,  3,  4,  5,  6,  7,  1,  9, 10, 11,  1])"
      ]
     },
     "execution_count": 33,
     "metadata": {},
     "output_type": "execute_result"
    }
   ],
   "source": [
    "np.hstack((a,b,c)) # It will combined horeizontally"
   ]
  },
  {
   "cell_type": "code",
   "execution_count": 35,
   "id": "a7ba2a36-8556-45fd-a9a6-c1140a396942",
   "metadata": {},
   "outputs": [
    {
     "data": {
      "text/plain": [
       "array([[ 1,  2,  3,  4],\n",
       "       [ 5,  6,  7,  1],\n",
       "       [ 9, 10, 11,  1]])"
      ]
     },
     "execution_count": 35,
     "metadata": {},
     "output_type": "execute_result"
    }
   ],
   "source": [
    "np.vstack((a,b,c)) # It will combined vertically."
   ]
  },
  {
   "cell_type": "markdown",
   "id": "07e6f241-b9fd-4e12-844d-cfbd6e226c02",
   "metadata": {},
   "source": [
    "# Pandas ---> Pandas is an open-source library of python that is used handle data maniuplations."
   ]
  },
  {
   "cell_type": "code",
   "execution_count": 41,
   "id": "b4e5ca36-ab8e-4f3d-8d4e-e7883e869b70",
   "metadata": {},
   "outputs": [],
   "source": [
    "#!pip install pandas"
   ]
  },
  {
   "cell_type": "code",
   "execution_count": 43,
   "id": "4c28ad88-c5b6-4daf-ac83-b12a17e534ea",
   "metadata": {},
   "outputs": [],
   "source": [
    "import pandas as pd"
   ]
  },
  {
   "cell_type": "code",
   "execution_count": 45,
   "id": "78e37045-2dca-42c4-b367-cb028cc8cbfb",
   "metadata": {},
   "outputs": [],
   "source": [
    "# Data Structure of Pandas\n",
    "# (a). Series --> It is one-dimensional array and it shows only values.\n",
    "# (b). DataFrame ---> It is multi-dimensional array and it contains values with column name."
   ]
  },
  {
   "cell_type": "markdown",
   "id": "459bba3b-59d2-40bd-b3f9-9030407db777",
   "metadata": {},
   "source": [
    "# (a). Series"
   ]
  },
  {
   "cell_type": "code",
   "execution_count": 49,
   "id": "dddb69c0-0da7-4b33-9a2f-9220af65eb07",
   "metadata": {},
   "outputs": [
    {
     "data": {
      "text/plain": [
       "0     1\n",
       "1    45\n",
       "2    78\n",
       "3    90\n",
       "dtype: int64"
      ]
     },
     "execution_count": 49,
     "metadata": {},
     "output_type": "execute_result"
    }
   ],
   "source": [
    "a = pd.Series([1,45,78,90])\n",
    "a"
   ]
  },
  {
   "cell_type": "code",
   "execution_count": 51,
   "id": "62bcb045-85da-46b2-abad-d4c2dfd2fd73",
   "metadata": {},
   "outputs": [
    {
     "data": {
      "text/plain": [
       "pandas.core.series.Series"
      ]
     },
     "execution_count": 51,
     "metadata": {},
     "output_type": "execute_result"
    }
   ],
   "source": [
    "type(a)"
   ]
  },
  {
   "cell_type": "markdown",
   "id": "ad061649-1fee-413f-b6bf-d6b7b715abb2",
   "metadata": {},
   "source": [
    "# (b). DataFrame"
   ]
  },
  {
   "cell_type": "code",
   "execution_count": 57,
   "id": "eefcbef9-994a-404f-83ac-3ce5c7a7d683",
   "metadata": {},
   "outputs": [],
   "source": [
    "a = {\n",
    "    \"Emp_ID\":[1,2,3,4,5],\n",
    "    \"Name\": ['Sam','Raj','Mohit','Aniket','Pallavi',],\n",
    "    \"Department\": ['IT','Sales','Sales','IT','IT'],\n",
    "    \"Salary\":[2000,45555,55522,5544,55222]\n",
    "}"
   ]
  },
  {
   "cell_type": "code",
   "execution_count": 59,
   "id": "3fad2ca6-d850-4cd9-9875-1fca39bb1089",
   "metadata": {},
   "outputs": [
    {
     "data": {
      "text/html": [
       "<div>\n",
       "<style scoped>\n",
       "    .dataframe tbody tr th:only-of-type {\n",
       "        vertical-align: middle;\n",
       "    }\n",
       "\n",
       "    .dataframe tbody tr th {\n",
       "        vertical-align: top;\n",
       "    }\n",
       "\n",
       "    .dataframe thead th {\n",
       "        text-align: right;\n",
       "    }\n",
       "</style>\n",
       "<table border=\"1\" class=\"dataframe\">\n",
       "  <thead>\n",
       "    <tr style=\"text-align: right;\">\n",
       "      <th></th>\n",
       "      <th>Emp_ID</th>\n",
       "      <th>Name</th>\n",
       "      <th>Department</th>\n",
       "      <th>Salary</th>\n",
       "    </tr>\n",
       "  </thead>\n",
       "  <tbody>\n",
       "    <tr>\n",
       "      <th>0</th>\n",
       "      <td>1</td>\n",
       "      <td>Sam</td>\n",
       "      <td>IT</td>\n",
       "      <td>2000</td>\n",
       "    </tr>\n",
       "    <tr>\n",
       "      <th>1</th>\n",
       "      <td>2</td>\n",
       "      <td>Raj</td>\n",
       "      <td>Sales</td>\n",
       "      <td>45555</td>\n",
       "    </tr>\n",
       "    <tr>\n",
       "      <th>2</th>\n",
       "      <td>3</td>\n",
       "      <td>Mohit</td>\n",
       "      <td>Sales</td>\n",
       "      <td>55522</td>\n",
       "    </tr>\n",
       "    <tr>\n",
       "      <th>3</th>\n",
       "      <td>4</td>\n",
       "      <td>Aniket</td>\n",
       "      <td>IT</td>\n",
       "      <td>5544</td>\n",
       "    </tr>\n",
       "    <tr>\n",
       "      <th>4</th>\n",
       "      <td>5</td>\n",
       "      <td>Pallavi</td>\n",
       "      <td>IT</td>\n",
       "      <td>55222</td>\n",
       "    </tr>\n",
       "  </tbody>\n",
       "</table>\n",
       "</div>"
      ],
      "text/plain": [
       "   Emp_ID     Name Department  Salary\n",
       "0       1      Sam         IT    2000\n",
       "1       2      Raj      Sales   45555\n",
       "2       3    Mohit      Sales   55522\n",
       "3       4   Aniket         IT    5544\n",
       "4       5  Pallavi         IT   55222"
      ]
     },
     "execution_count": 59,
     "metadata": {},
     "output_type": "execute_result"
    }
   ],
   "source": [
    "df = pd.DataFrame(a)\n",
    "df"
   ]
  },
  {
   "cell_type": "code",
   "execution_count": 61,
   "id": "4ee3749d-54c5-42d6-abc2-c56d3b98350a",
   "metadata": {},
   "outputs": [],
   "source": [
    "df.to_csv(\"C:\\\\Users\\\\Amanj\\\\OneDrive\\\\Desktop\\\\Aman\\\\emp_info.csv\" , index=False)"
   ]
  },
  {
   "cell_type": "code",
   "execution_count": null,
   "id": "fc570b46-6280-4710-aefb-39119805fe4c",
   "metadata": {},
   "outputs": [],
   "source": []
  }
 ],
 "metadata": {
  "kernelspec": {
   "display_name": "Python [conda env:base] *",
   "language": "python",
   "name": "conda-base-py"
  },
  "language_info": {
   "codemirror_mode": {
    "name": "ipython",
    "version": 3
   },
   "file_extension": ".py",
   "mimetype": "text/x-python",
   "name": "python",
   "nbconvert_exporter": "python",
   "pygments_lexer": "ipython3",
   "version": "3.12.7"
  }
 },
 "nbformat": 4,
 "nbformat_minor": 5
}
