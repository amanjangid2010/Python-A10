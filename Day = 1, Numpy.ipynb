{
 "cells": [
  {
   "cell_type": "markdown",
   "id": "0809884f-20d4-4901-8a8a-6e8a4e2c8644",
   "metadata": {},
   "source": [
    "# Introduction to Numpy ---->"
   ]
  },
  {
   "cell_type": "code",
   "execution_count": 4,
   "id": "aea17fe0-4b6c-466c-8fe5-1dc3d61689a2",
   "metadata": {},
   "outputs": [],
   "source": [
    "# Numpy is an open-source library of python which is used for handle scintific-calcuations."
   ]
  },
  {
   "cell_type": "code",
   "execution_count": 6,
   "id": "5e3446dd-2b1a-4210-9afe-74669372675c",
   "metadata": {},
   "outputs": [],
   "source": [
    "# !pip install numpy"
   ]
  },
  {
   "cell_type": "code",
   "execution_count": 8,
   "id": "be999e08-b8f9-4dc4-bfe5-e9e1621e6b48",
   "metadata": {},
   "outputs": [],
   "source": [
    "import numpy as np"
   ]
  },
  {
   "cell_type": "markdown",
   "id": "7ad7bec2-6d80-4298-b0ba-d111df82438e",
   "metadata": {},
   "source": [
    "# Why Numpy is better than list ?"
   ]
  },
  {
   "cell_type": "code",
   "execution_count": 12,
   "id": "67ae7d3c-61b9-4635-878f-56a7bf52e7bc",
   "metadata": {},
   "outputs": [],
   "source": [
    "# 1. Numpy is homogenous data type and list is hetrogeneous data type.\n",
    "# 2. Numpy takes less memory while list take more memmory.\n",
    "# 3. Numpy take less execution time while list take more time of execution.\n",
    "# 4. Numpy has more functionality as compare to list"
   ]
  },
  {
   "cell_type": "code",
   "execution_count": 14,
   "id": "4a2821e6-5fb0-43e5-98ee-3110a7e3d297",
   "metadata": {},
   "outputs": [
    {
     "data": {
      "text/plain": [
       "list"
      ]
     },
     "execution_count": 14,
     "metadata": {},
     "output_type": "execute_result"
    }
   ],
   "source": [
    "a = [1,34,68,90]\n",
    "type(a)"
   ]
  },
  {
   "cell_type": "code",
   "execution_count": 16,
   "id": "8d2c1427-3d92-44e9-be9c-9abd5313ad92",
   "metadata": {},
   "outputs": [
    {
     "data": {
      "text/plain": [
       "array([ 1, 34, 68, 90])"
      ]
     },
     "execution_count": 16,
     "metadata": {},
     "output_type": "execute_result"
    }
   ],
   "source": [
    "b = np.array(a)\n",
    "b"
   ]
  },
  {
   "cell_type": "code",
   "execution_count": 18,
   "id": "94a5cc85-10cb-4a43-be50-e07e70f01427",
   "metadata": {},
   "outputs": [
    {
     "data": {
      "text/plain": [
       "numpy.ndarray"
      ]
     },
     "execution_count": 18,
     "metadata": {},
     "output_type": "execute_result"
    }
   ],
   "source": [
    "type(b)"
   ]
  },
  {
   "cell_type": "code",
   "execution_count": 20,
   "id": "95b5ee70-8236-43f9-afee-e909a9039d16",
   "metadata": {},
   "outputs": [
    {
     "data": {
      "text/plain": [
       "array([[1, 2, 3],\n",
       "       [4, 5, 6],\n",
       "       [7, 8, 9]])"
      ]
     },
     "execution_count": 20,
     "metadata": {},
     "output_type": "execute_result"
    }
   ],
   "source": [
    "a = [[1,2,3] , [4,5,6] , [7,8,9]]\n",
    "b = np.array(a)\n",
    "b"
   ]
  },
  {
   "cell_type": "code",
   "execution_count": 22,
   "id": "cc0eb532-a6a7-484d-9e93-b89c6c320db2",
   "metadata": {},
   "outputs": [
    {
     "name": "stdout",
     "output_type": "stream",
     "text": [
      "Total Rows and Colums: (3, 3)\n",
      "Total Elements: 9\n",
      "Total Dimension: 2\n"
     ]
    }
   ],
   "source": [
    "print(\"Total Rows and Colums:\", b.shape) # shape = n(rows) , n(columns)\n",
    "print(\"Total Elements:\", b.size) # size = n(rows) * n(columns)\n",
    "print(\"Total Dimension:\", b.ndim) # ndim stands for n_dimension here 2 = (x,y)"
   ]
  },
  {
   "cell_type": "markdown",
   "id": "2f6051aa-fb98-44da-88c0-1cfa3ee6dffa",
   "metadata": {},
   "source": [
    "# User-Defined Array"
   ]
  },
  {
   "cell_type": "code",
   "execution_count": 26,
   "id": "3fe91f6e-58d5-498b-872a-8d72181d6dbf",
   "metadata": {},
   "outputs": [
    {
     "name": "stdin",
     "output_type": "stream",
     "text": [
      "Enter size: 3\n",
      "Enter item: 12\n",
      "Enter item: 45\n",
      "Enter item: 788\n"
     ]
    },
    {
     "data": {
      "text/plain": [
       "array([ 12,  45, 788])"
      ]
     },
     "execution_count": 26,
     "metadata": {},
     "output_type": "execute_result"
    }
   ],
   "source": [
    "a = []\n",
    "size = int(input(\"Enter size:\"))\n",
    "for i in range(size):\n",
    "    val = int(input(\"Enter item:\"))\n",
    "    a.append(val)\n",
    "\n",
    "#a\n",
    "b = np.array(a)\n",
    "b"
   ]
  },
  {
   "cell_type": "markdown",
   "id": "0fd90659-43fb-47a3-89dd-753500023b4a",
   "metadata": {},
   "source": [
    "# Functions in Numpy"
   ]
  },
  {
   "cell_type": "code",
   "execution_count": 30,
   "id": "e55a426f-c34d-4f9c-8f9a-9df3ad1158d6",
   "metadata": {},
   "outputs": [],
   "source": [
    "# 1. Zero() --> It will create an array in which all the values will be 0 in either one- dimension\n",
    "# or mulit-dimension."
   ]
  },
  {
   "cell_type": "code",
   "execution_count": 32,
   "id": "ff167dec-14b6-4ce0-be87-a339524f2383",
   "metadata": {},
   "outputs": [
    {
     "data": {
      "text/plain": [
       "array([0., 0., 0.])"
      ]
     },
     "execution_count": 32,
     "metadata": {},
     "output_type": "execute_result"
    }
   ],
   "source": [
    "a = np.zeros(3)\n",
    "a"
   ]
  },
  {
   "cell_type": "code",
   "execution_count": 34,
   "id": "ded0b9fd-3c90-4aca-ab74-c41a40527f59",
   "metadata": {},
   "outputs": [
    {
     "data": {
      "text/plain": [
       "array([[0., 0., 0., 0.],\n",
       "       [0., 0., 0., 0.],\n",
       "       [0., 0., 0., 0.]])"
      ]
     },
     "execution_count": 34,
     "metadata": {},
     "output_type": "execute_result"
    }
   ],
   "source": [
    "a = np.zeros((3,4))\n",
    "a"
   ]
  },
  {
   "cell_type": "code",
   "execution_count": 36,
   "id": "0c4cb224-7e85-4a68-b8c4-5de7d4f5e4c9",
   "metadata": {},
   "outputs": [],
   "source": [
    "# 2. Ones() ---> It will create an array in which all the values will be 1 in either one \n",
    "# dimensional or multi-dimensional."
   ]
  },
  {
   "cell_type": "code",
   "execution_count": 38,
   "id": "e1e68b8a-9ad9-4db5-8f27-f7a31ce89ebe",
   "metadata": {},
   "outputs": [
    {
     "data": {
      "text/plain": [
       "array([1., 1., 1.])"
      ]
     },
     "execution_count": 38,
     "metadata": {},
     "output_type": "execute_result"
    }
   ],
   "source": [
    "a = np.ones(3)\n",
    "a"
   ]
  },
  {
   "cell_type": "code",
   "execution_count": 40,
   "id": "a71df807-b750-4773-8331-c16aa9d0f5aa",
   "metadata": {},
   "outputs": [
    {
     "data": {
      "text/plain": [
       "array([[1., 1., 1., 1.],\n",
       "       [1., 1., 1., 1.],\n",
       "       [1., 1., 1., 1.]])"
      ]
     },
     "execution_count": 40,
     "metadata": {},
     "output_type": "execute_result"
    }
   ],
   "source": [
    "a = np.ones((3,4))\n",
    "a"
   ]
  },
  {
   "cell_type": "code",
   "execution_count": 42,
   "id": "27b898f2-d663-46ff-82e6-68dc606366e6",
   "metadata": {},
   "outputs": [],
   "source": [
    "# 3. Eye() --> It will create an array in which digonal positional elements will be 1 and\n",
    "# rest all are 0 ."
   ]
  },
  {
   "cell_type": "code",
   "execution_count": 44,
   "id": "3fa94917-7c2c-496b-8f1e-111c4963e4bb",
   "metadata": {},
   "outputs": [
    {
     "data": {
      "text/plain": [
       "array([[1., 0., 0., 0.],\n",
       "       [0., 1., 0., 0.],\n",
       "       [0., 0., 1., 0.]])"
      ]
     },
     "execution_count": 44,
     "metadata": {},
     "output_type": "execute_result"
    }
   ],
   "source": [
    "a = np.eye(3,4)\n",
    "a"
   ]
  },
  {
   "cell_type": "code",
   "execution_count": 46,
   "id": "2a7f2403-7b3e-457c-8d6a-9852a8adb5ca",
   "metadata": {},
   "outputs": [],
   "source": [
    "# 4. Diag() ---> We can set custom values on digonal position."
   ]
  },
  {
   "cell_type": "code",
   "execution_count": 48,
   "id": "7be1522d-a060-486c-9bb7-2dc801f28bb0",
   "metadata": {},
   "outputs": [
    {
     "data": {
      "text/plain": [
       "array([12, 34, 67, 90])"
      ]
     },
     "execution_count": 48,
     "metadata": {},
     "output_type": "execute_result"
    }
   ],
   "source": [
    "a = np.array([12,34,67,90])\n",
    "a"
   ]
  },
  {
   "cell_type": "code",
   "execution_count": 50,
   "id": "abaacfcd-665c-4fc6-bfeb-0b0730502084",
   "metadata": {},
   "outputs": [
    {
     "data": {
      "text/plain": [
       "array([[12,  0,  0,  0],\n",
       "       [ 0, 34,  0,  0],\n",
       "       [ 0,  0, 67,  0],\n",
       "       [ 0,  0,  0, 90]])"
      ]
     },
     "execution_count": 50,
     "metadata": {},
     "output_type": "execute_result"
    }
   ],
   "source": [
    "b = np.diag(a)\n",
    "b"
   ]
  },
  {
   "cell_type": "code",
   "execution_count": 52,
   "id": "15532c85-bbf2-4f81-94ab-530e7c409927",
   "metadata": {},
   "outputs": [],
   "source": [
    "# 5. Random Module ---->\n",
    "# (a). Randint() ---> It will generate random numbers in a given range.\n"
   ]
  },
  {
   "cell_type": "code",
   "execution_count": 58,
   "id": "4876c698-de99-486e-97c8-5c8691d73c25",
   "metadata": {},
   "outputs": [
    {
     "data": {
      "text/plain": [
       "array([2, 5, 7])"
      ]
     },
     "execution_count": 58,
     "metadata": {},
     "output_type": "execute_result"
    }
   ],
   "source": [
    "a = np.random.randint(1,10,3)\n",
    "a"
   ]
  },
  {
   "cell_type": "code",
   "execution_count": 60,
   "id": "607088a6-f205-4564-9d17-49592140961a",
   "metadata": {},
   "outputs": [],
   "source": [
    "# (b). Rand() ----> It will generate random numbers in range 0-1."
   ]
  },
  {
   "cell_type": "code",
   "execution_count": 62,
   "id": "e3997d16-6d8d-494f-af72-0a2cef75695f",
   "metadata": {},
   "outputs": [
    {
     "data": {
      "text/plain": [
       "array([0.77070701, 0.46265153, 0.46868078, 0.47726435])"
      ]
     },
     "execution_count": 62,
     "metadata": {},
     "output_type": "execute_result"
    }
   ],
   "source": [
    "a = np.random.rand(4)\n",
    "a"
   ]
  },
  {
   "cell_type": "code",
   "execution_count": 64,
   "id": "55703abf-29b5-4239-a6ec-599eb2664122",
   "metadata": {},
   "outputs": [],
   "source": [
    "# (c). Seed() ----> It will fix our random generated data."
   ]
  },
  {
   "cell_type": "code",
   "execution_count": 68,
   "id": "4d9fdad9-0460-4018-b574-1901ca901299",
   "metadata": {},
   "outputs": [
    {
     "data": {
      "text/plain": [
       "array([8, 9, 6])"
      ]
     },
     "execution_count": 68,
     "metadata": {},
     "output_type": "execute_result"
    }
   ],
   "source": [
    "np.random.seed(55)\n",
    "a = np.random.randint(1,10,3)\n",
    "a"
   ]
  },
  {
   "cell_type": "markdown",
   "id": "09f486b0-501c-455c-9186-6950f904adf7",
   "metadata": {},
   "source": [
    "# Reshaping the Array\n",
    "n(rows) * n(columns) = n(total_elements)"
   ]
  },
  {
   "cell_type": "code",
   "execution_count": 71,
   "id": "26c980cb-6f60-4d1f-95a1-76d838e8c1b8",
   "metadata": {},
   "outputs": [
    {
     "data": {
      "text/plain": [
       "array([38, 28, 34, 49, 36, 47, 31, 14, 31, 13, 25, 48])"
      ]
     },
     "execution_count": 71,
     "metadata": {},
     "output_type": "execute_result"
    }
   ],
   "source": [
    "a = np.random.randint(1,50,12)\n",
    "a"
   ]
  },
  {
   "cell_type": "code",
   "execution_count": 73,
   "id": "eeeb5c06-9426-4dde-a772-49886f324c09",
   "metadata": {},
   "outputs": [
    {
     "data": {
      "text/plain": [
       "12"
      ]
     },
     "execution_count": 73,
     "metadata": {},
     "output_type": "execute_result"
    }
   ],
   "source": [
    "a.size"
   ]
  },
  {
   "cell_type": "code",
   "execution_count": 75,
   "id": "89bc259d-a805-4da6-838b-a88d8049d10b",
   "metadata": {},
   "outputs": [],
   "source": [
    "# 12 ---> reshape\n",
    "# 1*12 ,  12*1\n",
    "# 2*6, 6*2\n",
    "# 3*4, 4*3"
   ]
  },
  {
   "cell_type": "code",
   "execution_count": 77,
   "id": "f663275b-b561-4ff9-b91f-ea7da0d3386b",
   "metadata": {},
   "outputs": [
    {
     "data": {
      "text/plain": [
       "array([[38, 28, 34, 49, 36, 47],\n",
       "       [31, 14, 31, 13, 25, 48]])"
      ]
     },
     "execution_count": 77,
     "metadata": {},
     "output_type": "execute_result"
    }
   ],
   "source": [
    "a.reshape(2,6)"
   ]
  },
  {
   "cell_type": "code",
   "execution_count": 79,
   "id": "ea4c588f-2967-480f-b6c8-8c5239982c87",
   "metadata": {},
   "outputs": [
    {
     "data": {
      "text/plain": [
       "array([[38, 28, 34, 49],\n",
       "       [36, 47, 31, 14],\n",
       "       [31, 13, 25, 48]])"
      ]
     },
     "execution_count": 79,
     "metadata": {},
     "output_type": "execute_result"
    }
   ],
   "source": [
    "a.reshape(3,4)"
   ]
  },
  {
   "cell_type": "code",
   "execution_count": 85,
   "id": "07c6cecb-9927-49dc-8278-1f16635777da",
   "metadata": {},
   "outputs": [
    {
     "data": {
      "text/plain": [
       "array([[38, 28, 34],\n",
       "       [49, 36, 47],\n",
       "       [31, 14, 31],\n",
       "       [13, 25, 48]])"
      ]
     },
     "execution_count": 85,
     "metadata": {},
     "output_type": "execute_result"
    }
   ],
   "source": [
    "a.reshape(4,3)"
   ]
  },
  {
   "cell_type": "code",
   "execution_count": 87,
   "id": "3e45e2e2-31b2-4780-a6de-d34de4f6fc49",
   "metadata": {},
   "outputs": [
    {
     "ename": "ValueError",
     "evalue": "cannot reshape array of size 12 into shape (2,5)",
     "output_type": "error",
     "traceback": [
      "\u001b[1;31m---------------------------------------------------------------------------\u001b[0m",
      "\u001b[1;31mValueError\u001b[0m                                Traceback (most recent call last)",
      "Cell \u001b[1;32mIn[87], line 1\u001b[0m\n\u001b[1;32m----> 1\u001b[0m a\u001b[38;5;241m.\u001b[39mreshape(\u001b[38;5;241m2\u001b[39m,\u001b[38;5;241m5\u001b[39m)\n",
      "\u001b[1;31mValueError\u001b[0m: cannot reshape array of size 12 into shape (2,5)"
     ]
    }
   ],
   "source": [
    "a.reshape(2,5)"
   ]
  },
  {
   "cell_type": "markdown",
   "id": "61f31042-06f4-466c-91b0-42b44c39a4e1",
   "metadata": {},
   "source": [
    "# Operations On Array"
   ]
  },
  {
   "cell_type": "code",
   "execution_count": 91,
   "id": "9861ed2e-ab70-488c-9d09-cfd97161e27f",
   "metadata": {},
   "outputs": [
    {
     "data": {
      "text/plain": [
       "array([ 1,  2,  3,  4,  5,  6,  7,  8,  9, 10, 11, 12, 13, 14, 15])"
      ]
     },
     "execution_count": 91,
     "metadata": {},
     "output_type": "execute_result"
    }
   ],
   "source": [
    "a = np.arange(1,16)\n",
    "a"
   ]
  },
  {
   "cell_type": "code",
   "execution_count": 93,
   "id": "91dad1d4-c47c-4ec4-af43-424df878c559",
   "metadata": {},
   "outputs": [
    {
     "data": {
      "text/plain": [
       "array([False, False, False, False, False, False, False, False, False,\n",
       "       False,  True,  True,  True,  True,  True])"
      ]
     },
     "execution_count": 93,
     "metadata": {},
     "output_type": "execute_result"
    }
   ],
   "source": [
    "a > 10"
   ]
  },
  {
   "cell_type": "code",
   "execution_count": 95,
   "id": "ed5872b7-62fd-46de-85b6-60aa1849670b",
   "metadata": {},
   "outputs": [
    {
     "data": {
      "text/plain": [
       "array([11, 12, 13, 14, 15])"
      ]
     },
     "execution_count": 95,
     "metadata": {},
     "output_type": "execute_result"
    }
   ],
   "source": [
    "b = a>10\n",
    "a[b]"
   ]
  },
  {
   "cell_type": "code",
   "execution_count": 97,
   "id": "fe0f0ae0-556c-4226-97d2-c583d0c236a1",
   "metadata": {},
   "outputs": [
    {
     "data": {
      "text/plain": [
       "array([ 2,  4,  6,  8, 10, 12, 14])"
      ]
     },
     "execution_count": 97,
     "metadata": {},
     "output_type": "execute_result"
    }
   ],
   "source": [
    "a[a%2==0]"
   ]
  },
  {
   "cell_type": "code",
   "execution_count": 99,
   "id": "e45cb332-9ae4-450c-8228-bc8e16501184",
   "metadata": {},
   "outputs": [
    {
     "data": {
      "text/plain": [
       "array([[ 1,  2,  3],\n",
       "       [ 4,  5,  6],\n",
       "       [ 7,  8,  9],\n",
       "       [10, 11, 12],\n",
       "       [13, 14, 15]])"
      ]
     },
     "execution_count": 99,
     "metadata": {},
     "output_type": "execute_result"
    }
   ],
   "source": [
    "a = a.reshape(5,3)\n",
    "a"
   ]
  },
  {
   "cell_type": "code",
   "execution_count": 101,
   "id": "81f4e959-4524-478c-8795-b8ea2e1ad01f",
   "metadata": {},
   "outputs": [
    {
     "data": {
      "text/plain": [
       "120"
      ]
     },
     "execution_count": 101,
     "metadata": {},
     "output_type": "execute_result"
    }
   ],
   "source": [
    "np.sum(a) ## total sum"
   ]
  },
  {
   "cell_type": "code",
   "execution_count": 103,
   "id": "56a31969-2137-440c-8b76-71d5b63b6a38",
   "metadata": {},
   "outputs": [
    {
     "data": {
      "text/plain": [
       "array([35, 40, 45])"
      ]
     },
     "execution_count": 103,
     "metadata": {},
     "output_type": "execute_result"
    }
   ],
   "source": [
    "np.sum(a, axis = 0) ## column wise sum ( axis=0 in numpy)"
   ]
  },
  {
   "cell_type": "code",
   "execution_count": 105,
   "id": "b311250a-e4f0-424d-a6f0-af0b597d3a8c",
   "metadata": {},
   "outputs": [
    {
     "data": {
      "text/plain": [
       "array([ 6, 15, 24, 33, 42])"
      ]
     },
     "execution_count": 105,
     "metadata": {},
     "output_type": "execute_result"
    }
   ],
   "source": [
    "np.sum(a, axis =1) # row wise sum ( aixs = 1 in numpy)"
   ]
  },
  {
   "cell_type": "code",
   "execution_count": 107,
   "id": "d0fdf1b2-956b-4b94-8984-9968f7ae4481",
   "metadata": {},
   "outputs": [
    {
     "data": {
      "text/plain": [
       "array([[1, 2],\n",
       "       [3, 4]])"
      ]
     },
     "execution_count": 107,
     "metadata": {},
     "output_type": "execute_result"
    }
   ],
   "source": [
    "a = np.arange(1,5).reshape(2,2)\n",
    "a"
   ]
  },
  {
   "cell_type": "code",
   "execution_count": 109,
   "id": "3db3dc01-9b2f-4172-96a8-9e74a88ab192",
   "metadata": {},
   "outputs": [
    {
     "data": {
      "text/plain": [
       "array([[5, 6],\n",
       "       [7, 8]])"
      ]
     },
     "execution_count": 109,
     "metadata": {},
     "output_type": "execute_result"
    }
   ],
   "source": [
    "b = np.arange(5,9).reshape(2,2)\n",
    "b"
   ]
  },
  {
   "cell_type": "code",
   "execution_count": 111,
   "id": "237671d7-0374-4e0e-bdae-a8645c18c64c",
   "metadata": {},
   "outputs": [
    {
     "data": {
      "text/plain": [
       "array([[ 6,  8],\n",
       "       [10, 12]])"
      ]
     },
     "execution_count": 111,
     "metadata": {},
     "output_type": "execute_result"
    }
   ],
   "source": [
    "a + b"
   ]
  },
  {
   "cell_type": "code",
   "execution_count": 115,
   "id": "506dc7f1-9d29-4edf-9217-91204406bddc",
   "metadata": {},
   "outputs": [
    {
     "data": {
      "text/plain": [
       "array([[-4, -4],\n",
       "       [-4, -4]])"
      ]
     },
     "execution_count": 115,
     "metadata": {},
     "output_type": "execute_result"
    }
   ],
   "source": [
    "a - b"
   ]
  },
  {
   "cell_type": "code",
   "execution_count": 117,
   "id": "0ae9d834-6951-4a22-bdbe-e5a745d18214",
   "metadata": {},
   "outputs": [
    {
     "data": {
      "text/plain": [
       "array([[ 5, 12],\n",
       "       [21, 32]])"
      ]
     },
     "execution_count": 117,
     "metadata": {},
     "output_type": "execute_result"
    }
   ],
   "source": [
    "a * b"
   ]
  },
  {
   "cell_type": "code",
   "execution_count": 121,
   "id": "0c01bc69-f57e-4324-be17-192723620d50",
   "metadata": {},
   "outputs": [
    {
     "data": {
      "text/plain": [
       "array([[ 5, 12],\n",
       "       [21, 32]])"
      ]
     },
     "execution_count": 121,
     "metadata": {},
     "output_type": "execute_result"
    }
   ],
   "source": [
    "a * b # matrix multiply is not this."
   ]
  },
  {
   "cell_type": "code",
   "execution_count": 123,
   "id": "f5273189-708a-469e-a6c3-ab1949c08d6a",
   "metadata": {},
   "outputs": [
    {
     "data": {
      "text/plain": [
       "array([[19, 22],\n",
       "       [43, 50]])"
      ]
     },
     "execution_count": 123,
     "metadata": {},
     "output_type": "execute_result"
    }
   ],
   "source": [
    "a.dot(b) ## dot() we can multiply of matrix."
   ]
  },
  {
   "cell_type": "code",
   "execution_count": 125,
   "id": "ddd91435-2933-409a-be1d-eaa720d77ea8",
   "metadata": {},
   "outputs": [
    {
     "data": {
      "text/plain": [
       "array([ 1,  4,  9, 16])"
      ]
     },
     "execution_count": 125,
     "metadata": {},
     "output_type": "execute_result"
    }
   ],
   "source": [
    "a = np.array([1,2,3,4])\n",
    "a**2"
   ]
  },
  {
   "cell_type": "code",
   "execution_count": 127,
   "id": "7e8738cc-f158-4ed9-b116-79560c39e324",
   "metadata": {},
   "outputs": [
    {
     "data": {
      "text/plain": [
       "array([ 1,  8, 27, 64], dtype=int32)"
      ]
     },
     "execution_count": 127,
     "metadata": {},
     "output_type": "execute_result"
    }
   ],
   "source": [
    "a**3"
   ]
  },
  {
   "cell_type": "code",
   "execution_count": 129,
   "id": "2528a97a-b27b-44d4-8c65-5ae307e8d31c",
   "metadata": {},
   "outputs": [
    {
     "data": {
      "text/plain": [
       "array([ 0.84147098,  0.90929743,  0.14112001, -0.7568025 ])"
      ]
     },
     "execution_count": 129,
     "metadata": {},
     "output_type": "execute_result"
    }
   ],
   "source": [
    "np.sin(a)"
   ]
  },
  {
   "cell_type": "code",
   "execution_count": 131,
   "id": "29d1e1a7-aa15-4aaf-b954-699e5d229769",
   "metadata": {},
   "outputs": [
    {
     "data": {
      "text/plain": [
       "array([1.        , 1.41421356, 1.73205081, 2.        ])"
      ]
     },
     "execution_count": 131,
     "metadata": {},
     "output_type": "execute_result"
    }
   ],
   "source": [
    "np.sqrt(a)"
   ]
  },
  {
   "cell_type": "code",
   "execution_count": null,
   "id": "645227e7-020b-4712-8526-4a420ae73928",
   "metadata": {},
   "outputs": [],
   "source": []
  }
 ],
 "metadata": {
  "kernelspec": {
   "display_name": "Python [conda env:base] *",
   "language": "python",
   "name": "conda-base-py"
  },
  "language_info": {
   "codemirror_mode": {
    "name": "ipython",
    "version": 3
   },
   "file_extension": ".py",
   "mimetype": "text/x-python",
   "name": "python",
   "nbconvert_exporter": "python",
   "pygments_lexer": "ipython3",
   "version": "3.12.7"
  }
 },
 "nbformat": 4,
 "nbformat_minor": 5
}
